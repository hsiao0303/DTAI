{
 "cells": [
  {
   "cell_type": "code",
   "execution_count": 1,
   "metadata": {},
   "outputs": [
    {
     "name": "stdout",
     "output_type": "stream",
     "text": [
      "rpwp\n"
     ]
    }
   ],
   "source": [
    "print(\"rpwp\")"
   ]
  },
  {
   "cell_type": "code",
   "execution_count": 2,
   "metadata": {},
   "outputs": [],
   "source": [
    "a = range(5)"
   ]
  },
  {
   "cell_type": "code",
   "execution_count": 3,
   "metadata": {},
   "outputs": [
    {
     "data": {
      "text/plain": [
       "range(0, 5)"
      ]
     },
     "execution_count": 3,
     "metadata": {},
     "output_type": "execute_result"
    }
   ],
   "source": [
    "a"
   ]
  },
  {
   "cell_type": "code",
   "execution_count": 4,
   "metadata": {},
   "outputs": [
    {
     "name": "stdout",
     "output_type": "stream",
     "text": [
      "[0, 1, 2, 3, 4]\n"
     ]
    }
   ],
   "source": [
    "print(list(a))"
   ]
  },
  {
   "cell_type": "code",
   "execution_count": 5,
   "metadata": {},
   "outputs": [
    {
     "name": "stdout",
     "output_type": "stream",
     "text": [
      "[1, 2, 3, 4, 5]\n"
     ]
    }
   ],
   "source": [
    "b = range(1,6)\n",
    "print(list(b))"
   ]
  },
  {
   "cell_type": "code",
   "execution_count": 6,
   "metadata": {},
   "outputs": [
    {
     "name": "stdout",
     "output_type": "stream",
     "text": [
      "[1, 3, 5, 7, 9]\n"
     ]
    }
   ],
   "source": [
    "c = range(1,10,2)\n",
    "print(list(c))"
   ]
  },
  {
   "cell_type": "code",
   "execution_count": 7,
   "metadata": {},
   "outputs": [
    {
     "name": "stdout",
     "output_type": "stream",
     "text": [
      "[10, 8, 6, 4, 2]\n"
     ]
    }
   ],
   "source": [
    "d = range(10,1,-2)\n",
    "print(list(d))"
   ]
  },
  {
   "cell_type": "code",
   "execution_count": 8,
   "metadata": {},
   "outputs": [
    {
     "name": "stdout",
     "output_type": "stream",
     "text": [
      "[1, 2, 3, 4, 5]\n"
     ]
    }
   ],
   "source": [
    "list1 = [1,2,3,4,5]\n",
    "print(list1)"
   ]
  },
  {
   "cell_type": "code",
   "execution_count": 9,
   "metadata": {},
   "outputs": [
    {
     "name": "stdout",
     "output_type": "stream",
     "text": [
      "['柚子', '蘋果', '鳳梨']\n"
     ]
    }
   ],
   "source": [
    "list2 = [\"柚子\",\"蘋果\",\"鳳梨\"]\n",
    "print(list2)"
   ]
  },
  {
   "cell_type": "code",
   "execution_count": 10,
   "metadata": {},
   "outputs": [
    {
     "name": "stdout",
     "output_type": "stream",
     "text": [
      "[1, '柚子', True]\n"
     ]
    }
   ],
   "source": [
    "list3 = [1,\"柚子\",True]\n",
    "print(list3)"
   ]
  },
  {
   "cell_type": "code",
   "execution_count": 11,
   "metadata": {},
   "outputs": [
    {
     "name": "stdout",
     "output_type": "stream",
     "text": [
      "1\n"
     ]
    }
   ],
   "source": [
    "print(list1[0])"
   ]
  },
  {
   "cell_type": "code",
   "execution_count": 12,
   "metadata": {},
   "outputs": [
    {
     "name": "stdout",
     "output_type": "stream",
     "text": [
      "蘋果\n"
     ]
    }
   ],
   "source": [
    "print(list2[1])"
   ]
  },
  {
   "cell_type": "code",
   "execution_count": 15,
   "metadata": {},
   "outputs": [
    {
     "name": "stdout",
     "output_type": "stream",
     "text": [
      "柚子\n"
     ]
    }
   ],
   "source": [
    "print(list2[0])"
   ]
  },
  {
   "cell_type": "code",
   "execution_count": 16,
   "metadata": {},
   "outputs": [
    {
     "name": "stdout",
     "output_type": "stream",
     "text": [
      "鳳梨\n"
     ]
    }
   ],
   "source": [
    "print(list2[-1])"
   ]
  },
  {
   "cell_type": "code",
   "execution_count": 18,
   "metadata": {},
   "outputs": [
    {
     "name": "stdout",
     "output_type": "stream",
     "text": [
      "3\n"
     ]
    }
   ],
   "source": [
    "print(list1[-3])"
   ]
  },
  {
   "cell_type": "code",
   "execution_count": 25,
   "metadata": {},
   "outputs": [
    {
     "name": "stdout",
     "output_type": "stream",
     "text": [
      "['mary', 'abcd']\n",
      "['tom', '1234']\n",
      "abcd\n",
      "tom\n",
      "mary\n"
     ]
    }
   ],
   "source": [
    "list5 = [[\"tom\",\"1234\"],[\"mary\",\"abcd\"],[\"david,5678\"]]\n",
    "print(list5[1])\n",
    "print(list5[0])\n",
    "print(list5[1][1])\n",
    "print(list5[0][0])\n",
    "print(list5[1][0])"
   ]
  },
  {
   "cell_type": "code",
   "execution_count": 31,
   "metadata": {},
   "outputs": [
    {
     "name": "stdout",
     "output_type": "stream",
     "text": [
      "國文成績: 85 分\n",
      "數學成績: 79 分\n",
      "英文成績: 93 分\n"
     ]
    }
   ],
   "source": [
    "a = eval(input(\"請輸入國文成績\"))\n",
    "b = eval(input(\"請輸入數學成績\"))\n",
    "c = eval(input(\"請輸入英文成績\"))\n",
    "print(\"國文成績:\",a,\"分\")\n",
    "print(\"數學成績:\",b,\"分\")\n",
    "print(\"英文成績:\",c,\"分\")"
   ]
  },
  {
   "cell_type": "code",
   "execution_count": 32,
   "metadata": {},
   "outputs": [
    {
     "name": "stdout",
     "output_type": "stream",
     "text": [
      "國文成績: 85 分\n",
      "數學成績: 79 分\n",
      "英文成績: 93 分\n"
     ]
    }
   ],
   "source": [
    "list6 = [[\"85\"],[\"79\"],[\"93\"]]\n",
    "print(\"國文成績:\",list6[0][0],\"分\")\n",
    "print(\"數學成績:\",list6[1][0],\"分\")\n",
    "print(\"英文成績:\",list6[2][0],\"分\")"
   ]
  },
  {
   "cell_type": "code",
   "execution_count": 36,
   "metadata": {},
   "outputs": [
    {
     "name": "stdout",
     "output_type": "stream",
     "text": [
      "柚子,蘋果,橘子,"
     ]
    }
   ],
   "source": [
    "list7 = [\"柚子\",\"蘋果\",\"橘子\"]\n",
    "for s in list7:\n",
    "    print (s, end=\",\")"
   ]
  },
  {
   "cell_type": "code",
   "execution_count": 38,
   "metadata": {},
   "outputs": [
    {
     "name": "stdout",
     "output_type": "stream",
     "text": [
      "123\n",
      "柚子\n",
      "True\n"
     ]
    }
   ],
   "source": [
    "list3 = [123,\"柚子\",True]\n",
    "for a in list3:\n",
    "    print(a)"
   ]
  },
  {
   "cell_type": "code",
   "execution_count": 39,
   "metadata": {},
   "outputs": [
    {
     "name": "stdout",
     "output_type": "stream",
     "text": [
      "3\n"
     ]
    }
   ],
   "source": [
    "scores = [85,79,93]\n",
    "print(len(scores))"
   ]
  },
  {
   "cell_type": "code",
   "execution_count": 40,
   "metadata": {},
   "outputs": [
    {
     "name": "stdout",
     "output_type": "stream",
     "text": [
      "85\n",
      "79\n",
      "93\n"
     ]
    }
   ],
   "source": [
    "scores = [85,79,93]\n",
    "for i in range(len(scores)):\n",
    "    print(scores[i])"
   ]
  },
  {
   "cell_type": "code",
   "execution_count": 80,
   "metadata": {},
   "outputs": [
    {
     "name": "stdout",
     "output_type": "stream",
     "text": [
      "編號 1 姓名: Tom\n",
      "國文成績: 85 分\n",
      "數學成績: 79 分\n",
      "英文成績: 93 分\n",
      "編號 2 姓名: Mary\n",
      "國文成績: 85 分\n",
      "數學成績: 79 分\n",
      "英文成績: 93 分\n",
      "編號 3 姓名: Tony\n",
      "國文成績: 85 分\n",
      "數學成績: 79 分\n",
      "英文成績: 93 分\n"
     ]
    }
   ],
   "source": [
    "a = [85,79,93]\n",
    "b = [\"Tom\",\"Mary\",\"Tony\"]\n",
    "c = [1,2,3]\n",
    "d = [\"國文成績:\",\"數學成績:\",\"英文成績:\"]\n",
    "for i in range(len(b)):\n",
    "    print(\"編號\",c[i],\"姓名:\",b[i])\n",
    "    for j in range(len(a)):\n",
    "        print(d[j],a[j],\"分\")\n",
    "    "
   ]
  },
  {
   "cell_type": "code",
   "execution_count": 83,
   "metadata": {},
   "outputs": [
    {
     "name": "stdout",
     "output_type": "stream",
     "text": [
      "90 60 30\n"
     ]
    }
   ],
   "source": [
    "a = input()\n",
    "b = a.split()\n",
    "c = b[::-1]\n",
    "d = ' '.join(c)\n",
    "print(d)"
   ]
  },
  {
   "cell_type": "code",
   "execution_count": 84,
   "metadata": {},
   "outputs": [
    {
     "name": "stdout",
     "output_type": "stream",
     "text": [
      "(1, 2, 3)\n",
      "(1, 2, 3)\n",
      "(1, 2, 3)\n"
     ]
    }
   ],
   "source": [
    "numbers = [1, 2, 3]\n",
    "for i in range(3):\n",
    "    print(f\"({', '.join(map(str, numbers))})\")"
   ]
  },
  {
   "cell_type": "code",
   "execution_count": 85,
   "metadata": {},
   "outputs": [
    {
     "name": "stdout",
     "output_type": "stream",
     "text": [
      "1 2 3 1 2 3 1 2 3\n"
     ]
    }
   ],
   "source": [
    "n = input().strip()\n",
    "print(f\"{n} {n} {n}\")"
   ]
  },
  {
   "cell_type": "code",
   "execution_count": 86,
   "metadata": {},
   "outputs": [
    {
     "name": "stdout",
     "output_type": "stream",
     "text": [
      "yrrehc elppaenip elppa\n"
     ]
    }
   ],
   "source": [
    "w = input().strip()\n",
    "m = w[::-1]\n",
    "print(m)"
   ]
  },
  {
   "cell_type": "code",
   "execution_count": 88,
   "metadata": {},
   "outputs": [
    {
     "name": "stdout",
     "output_type": "stream",
     "text": [
      "banana orange apple\n"
     ]
    }
   ],
   "source": [
    "words = input().split()\n",
    "print(' '.join(reversed(words)))"
   ]
  },
  {
   "cell_type": "code",
   "execution_count": 89,
   "metadata": {},
   "outputs": [
    {
     "name": "stdout",
     "output_type": "stream",
     "text": [
      "5050\n"
     ]
    }
   ],
   "source": [
    "total_sum = sum(range(1, 101))\n",
    "print(total_sum)\n"
   ]
  },
  {
   "cell_type": "code",
   "execution_count": 90,
   "metadata": {},
   "outputs": [
    {
     "name": "stdout",
     "output_type": "stream",
     "text": [
      "6\n"
     ]
    }
   ],
   "source": [
    "# 讀取並處理輸入\n",
    "numbers = input(\"請輸入三個整數，用空格隔開：\").split()\n",
    "\n",
    "# 將輸入的數字轉換為整數\n",
    "num1, num2, num3 = map(int, numbers)\n",
    "\n",
    "# 找出最小值\n",
    "minimum_value = min(num1, num2, num3)\n",
    "\n",
    "# 輸出最小值\n",
    "print(minimum_value)\n"
   ]
  },
  {
   "cell_type": "code",
   "execution_count": 92,
   "metadata": {},
   "outputs": [
    {
     "name": "stdout",
     "output_type": "stream",
     "text": [
      "10\n"
     ]
    }
   ],
   "source": [
    "numbers = input(\"請輸入三個整數，用空格隔開：\").split()\n",
    "num1, num2, num3 = map(int, numbers)\n",
    "minimum_value = min(num1, num2, num3)\n",
    "print(minimum_value)\n"
   ]
  },
  {
   "cell_type": "code",
   "execution_count": 93,
   "metadata": {},
   "outputs": [
    {
     "name": "stdout",
     "output_type": "stream",
     "text": [
      "60.0\n"
     ]
    }
   ],
   "source": [
    "n = input().split()\n",
    "n1,n2,n3 = map(float,n)\n",
    "if n1>n2 and n1>n3:\n",
    "    print (n1)\n",
    "elif n2>n1 and n2>n3:\n",
    "    print(n2)\n",
    "else:\n",
    "    print(n3)"
   ]
  },
  {
   "cell_type": "code",
   "execution_count": 94,
   "metadata": {},
   "outputs": [
    {
     "name": "stdout",
     "output_type": "stream",
     "text": [
      "10\n"
     ]
    }
   ],
   "source": [
    "import math\n",
    "num1, num2 = map(int, input().split())\n",
    "gcd_value = math.gcd(num1, num2)\n",
    "print(gcd_value)\n"
   ]
  },
  {
   "cell_type": "code",
   "execution_count": 95,
   "metadata": {},
   "outputs": [
    {
     "name": "stdout",
     "output_type": "stream",
     "text": [
      "143\n"
     ]
    }
   ],
   "source": [
    "import math\n",
    "num1, num2 = map(int, input().split())\n",
    "gcd_value = math.gcd(num1, num2)\n",
    "lcm_value = abs(num1 * num2) // gcd_value\n",
    "print(lcm_value)\n"
   ]
  },
  {
   "cell_type": "code",
   "execution_count": 96,
   "metadata": {},
   "outputs": [
    {
     "name": "stdout",
     "output_type": "stream",
     "text": [
      "CoMpUtEr\n"
     ]
    }
   ],
   "source": [
    "input_str = input()\n",
    "result = ''\n",
    "for index, char in enumerate(input_str):\n",
    "    if index % 2 == 0:\n",
    "         result += char.upper()\n",
    "    else:\n",
    "        result += char.lower()\n",
    "print(result)"
   ]
  },
  {
   "cell_type": "code",
   "execution_count": 101,
   "metadata": {},
   "outputs": [
    {
     "name": "stdout",
     "output_type": "stream",
     "text": [
      "InValid\n"
     ]
    }
   ],
   "source": [
    "a,b,c = map(int, input().split())\n",
    "if a+b>c and a+c>b and b+c>a:\n",
    "    print(\"Valid\")\n",
    "else:\n",
    "    print(\"Invalid\")"
   ]
  },
  {
   "cell_type": "code",
   "execution_count": 102,
   "metadata": {},
   "outputs": [
    {
     "name": "stdout",
     "output_type": "stream",
     "text": [
      "*****\n",
      "total:5\n"
     ]
    }
   ],
   "source": [
    "p = input()\n",
    "print(\"*\"*len(p))\n",
    "print(f'total:{len(p)}')"
   ]
  },
  {
   "cell_type": "code",
   "execution_count": 104,
   "metadata": {},
   "outputs": [
    {
     "name": "stdout",
     "output_type": "stream",
     "text": [
      "01:04:05\n"
     ]
    }
   ],
   "source": [
    "s = int(input())\n",
    "hs = s//3600\n",
    "ms = (s%3600)//60\n",
    "ss = s%60\n",
    "print(f'{hs:02}:{ms:02}:{ss:02}')"
   ]
  },
  {
   "cell_type": "code",
   "execution_count": 106,
   "metadata": {},
   "outputs": [
    {
     "name": "stdout",
     "output_type": "stream",
     "text": [
      "Ans Panda is cute\n"
     ]
    }
   ],
   "source": [
    "a = input()\n",
    "print(\"Ans\",a)"
   ]
  },
  {
   "cell_type": "code",
   "execution_count": 107,
   "metadata": {},
   "outputs": [
    {
     "name": "stdout",
     "output_type": "stream",
     "text": [
      "31\n"
     ]
    }
   ],
   "source": [
    "a,b,c,d,e,f,g,h,i=map(int,input().split())\n",
    "print(a+b+c+d+e+f+g+h+i)"
   ]
  },
  {
   "cell_type": "code",
   "execution_count": 109,
   "metadata": {},
   "outputs": [
    {
     "name": "stdout",
     "output_type": "stream",
     "text": [
      "17\n"
     ]
    }
   ],
   "source": [
    "w = input()\n",
    "print(len(w))"
   ]
  },
  {
   "cell_type": "code",
   "execution_count": 110,
   "metadata": {},
   "outputs": [
    {
     "name": "stdout",
     "output_type": "stream",
     "text": [
      "75\n"
     ]
    }
   ],
   "source": [
    "n = int(input())\n",
    "print(sum(range(10, n + 1)))"
   ]
  },
  {
   "cell_type": "code",
   "execution_count": 118,
   "metadata": {},
   "outputs": [
    {
     "name": "stdout",
     "output_type": "stream",
     "text": [
      "36.9 is normal\n"
     ]
    }
   ],
   "source": [
    "x = float(input())\n",
    "if x >= 37.5:\n",
    "    print(x, \"is over\")\n",
    "elif 37 <= x <= 37.4:\n",
    "    print(x, \"is little over\")\n",
    "elif 34 <= x <= 36.9:\n",
    "    print(x, \"is normal\")\n",
    "elif x < 34:\n",
    "    print(x, \"is error\")"
   ]
  },
  {
   "cell_type": "code",
   "execution_count": 119,
   "metadata": {},
   "outputs": [
    {
     "name": "stdout",
     "output_type": "stream",
     "text": [
      "99 is A\n"
     ]
    }
   ],
   "source": [
    "x = int(input())\n",
    "if x > 100:\n",
    "    print(x, \"is error\")\n",
    "elif 90 <= x <= 100:\n",
    "    print(x, \"is A\")\n",
    "elif 80 <= x <= 89:\n",
    "    print(x, \"is B\")\n",
    "elif 70 <= x <= 79:\n",
    "    print(x, \"is C\")\n",
    "elif 60 <= x <= 69:\n",
    "    print(x, \"is D\")\n",
    "elif 0 <= x <= 59:\n",
    "    print(x, \"is E\")\n",
    "elif x < 0:\n",
    "    print(x, \"is error\")"
   ]
  },
  {
   "cell_type": "code",
   "execution_count": 123,
   "metadata": {},
   "outputs": [
    {
     "name": "stdout",
     "output_type": "stream",
     "text": [
      "6 is spring\n"
     ]
    }
   ],
   "source": [
    "x = int(input())\n",
    "if x > 13:\n",
    "    print(\"input error\")\n",
    "elif x == 3 or 4 or 5:\n",
    "    print(x, \"is spring\")\n",
    "elif x == 6 or 7 or 8:\n",
    "    print(x, \"is summer\")\n",
    "elif x == 9 or 10 or 11:\n",
    "    print(x, \"is autumn\")\n",
    "elif x == 12 or 1 or 2:\n",
    "    print(x, \"is winter\")\n",
    "elif x < 1:\n",
    "    print(\"input error\")"
   ]
  },
  {
   "cell_type": "code",
   "execution_count": null,
   "metadata": {},
   "outputs": [],
   "source": [
    "請幫我確認我寫的程式有哪裡錯誤，詳細解釋後寫出正確的程式\n",
    "\n",
    "題目:請用python設計一個季節判斷程式，讓使用者輸入阿拉伯數字的月份後(整數型態)，並輸出該月份相關提示的文字(可用格式化方式撰寫)。\n",
    "\n",
    "輸入範例1:13\n",
    "輸出範例1:input error\n",
    "\n",
    "輸入範例2:12\n",
    "輸出範例2:12 is winter\n",
    "\n",
    "我寫的程式:\n",
    "x = int(input())\n",
    "if x > 13:\n",
    "    print(\"input error\")\n",
    "elif x == 3 or 4 or 5:\n",
    "    print(x, \"is spring\")\n",
    "elif x == 6 or 7 or 8:\n",
    "    print(x, \"is summer\")\n",
    "elif x == 9 or 10 or 11:\n",
    "    print(x, \"is autumn\")\n",
    "elif x == 12 or 1 or 2:\n",
    "    print(x, \"is winter\")\n",
    "elif x < 1:\n",
    "    print(\"input error\")"
   ]
  },
  {
   "cell_type": "code",
   "execution_count": 124,
   "metadata": {},
   "outputs": [
    {
     "name": "stdout",
     "output_type": "stream",
     "text": [
      "9 is autumn\n"
     ]
    }
   ],
   "source": [
    "x = int(input())\n",
    "if x < 1 or x > 12:\n",
    "    print(\"input error\")\n",
    "elif x in [3, 4, 5]:\n",
    "    print(f\"{x} is spring\")\n",
    "elif x in [6, 7, 8]:\n",
    "    print(f\"{x} is summer\")\n",
    "elif x in [9, 10, 11]:\n",
    "    print(f\"{x} is autumn\")\n",
    "elif x in [12, 1, 2]:\n",
    "    print(f\"{x} is winter\")\n"
   ]
  },
  {
   "cell_type": "code",
   "execution_count": 126,
   "metadata": {},
   "outputs": [
    {
     "name": "stdout",
     "output_type": "stream",
     "text": [
      "pay 600000.0 money\n"
     ]
    }
   ],
   "source": [
    "x = int(input())\n",
    "if x >= 2000000:\n",
    "    print(f'pay {x*0.3} money')\n",
    "elif 1000000 <= x < 2000000:\n",
    "    print(f'pay {x*0.21} money') \n",
    "elif 600000 <= x < 1000000:\n",
    "    print(f'pay {x*0.13} money') \n",
    "elif 300000 <= x < 600000:\n",
    "    print(f'pay {x*0.06} money') \n",
    "else:\n",
    "    print('pay 0 money')"
   ]
  },
  {
   "cell_type": "code",
   "execution_count": 131,
   "metadata": {},
   "outputs": [
    {
     "name": "stdout",
     "output_type": "stream",
     "text": [
      "95% discount is 9500.0\n"
     ]
    }
   ],
   "source": [
    "x = int(input())\n",
    "if x >= 100000:\n",
    "    print(f'80% discount is {x*0.8}')\n",
    "elif 50000 <= x < 100000:\n",
    "    print(f'85% discount is {x*0.85}') \n",
    "elif 30000 <= x < 50000:\n",
    "    print(f'90% discount is {x*0.9}') \n",
    "elif 10000 <= x < 30000:\n",
    "    print(f'95% discount is {x*0.95}') \n",
    "else:\n",
    "    print(f'no discount is {x}')"
   ]
  },
  {
   "cell_type": "code",
   "execution_count": 134,
   "metadata": {},
   "outputs": [
    {
     "name": "stdout",
     "output_type": "stream",
     "text": [
      "0,5,10,15,20,25,30,35,40,45,50,55,60,65,70,75,80,85,90,95,"
     ]
    }
   ],
   "source": [
    "a, b, c = map(int,input().split())\n",
    "for i in range(a,b,c):\n",
    "    print(i,end=',')"
   ]
  },
  {
   "cell_type": "code",
   "execution_count": null,
   "metadata": {},
   "outputs": [],
   "source": []
  }
 ],
 "metadata": {
  "kernelspec": {
   "display_name": "Python 3",
   "language": "python",
   "name": "python3"
  },
  "language_info": {
   "codemirror_mode": {
    "name": "ipython",
    "version": 3
   },
   "file_extension": ".py",
   "mimetype": "text/x-python",
   "name": "python",
   "nbconvert_exporter": "python",
   "pygments_lexer": "ipython3",
   "version": "3.12.4"
  }
 },
 "nbformat": 4,
 "nbformat_minor": 2
}
