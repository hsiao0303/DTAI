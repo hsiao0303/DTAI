{
 "cells": [
  {
   "cell_type": "code",
   "execution_count": 1,
   "metadata": {},
   "outputs": [
    {
     "name": "stdout",
     "output_type": "stream",
     "text": [
      "rpwp\n"
     ]
    }
   ],
   "source": [
    "print(\"rpwp\")"
   ]
  },
  {
   "cell_type": "code",
   "execution_count": null,
   "metadata": {},
   "outputs": [],
   "source": [
    "「水仙花數」是指一個三位數，其個位、十位、百位分別的立方和(也就是3次方)等於該數字本身。\n",
    "\n",
    "例如數字 153 ，個位為 3，立方和為 27；十位為 5，立方和為 125；百位為 1；立方和為 1。\n",
    "\n",
    "將所有立方和加總：27 + 125 + 1 = 153 (也就是加起來剛好為自己本身)。\n",
    "\n",
    "\n",
    "請用python設計一個程式，讓使用者在同一行依序輸入 for 迴圈的起始值、終止值(皆為整數型態)後，在同一行輸出該範圍內的水仙花數，請用「,」分隔每個數字。\n",
    "\n",
    "\n",
    "輸入\n",
    "在同一行依序輸入 for 迴圈的起始值、終止值(皆為整數型態)\n",
    "\n",
    "輸入範例 1:100 300\n",
    "輸出範例 1:153,\n",
    "\n",
    "輸入範例 2:300 600\n",
    "輸出範例 2:370,371,407,\n"
   ]
  },
  {
   "cell_type": "code",
   "execution_count": null,
   "metadata": {},
   "outputs": [],
   "source": [
    "import math\n",
    "\n",
    "def main():\n",
    "    user_input = input(\"\")\n",
    "\n",
    "    numbers = list(map(int, user_input.split()))\n",
    "\n",
    "    if len(numbers) != 9:\n",
    "        print(\"\")\n",
    "        return\n",
    "    \n",
    "\n",
    "    total_sum = sum(numbers)\n",
    "    \n",
    "\n",
    "    sqrt_value = math.sqrt(total_sum)\n",
    "    \n",
    "\n",
    "    int_sqrt_value = int(sqrt_value)\n",
    "    \n",
    "\n",
    "    if int_sqrt_value % 2 == 0:\n",
    "        odd_or_even = \"even\"\n",
    "    else:\n",
    "        odd_or_even = \"odd\"\n",
    "    \n",
    "\n",
    "    print(f\"sum:{total_sum}\")\n",
    "    print(f\"squ:{sqrt_value}\")\n",
    "    print(f\"squi:{int_sqrt_value}\")\n",
    "    print(f\"squi is {odd_or_even}\")\n",
    "\n",
    "if __name__ == \"__main__\":\n",
    "    main()\n"
   ]
  },
  {
   "cell_type": "code",
   "execution_count": 12,
   "metadata": {},
   "outputs": [
    {
     "ename": "TypeError",
     "evalue": "'int' object is not callable",
     "output_type": "error",
     "traceback": [
      "\u001b[1;31m---------------------------------------------------------------------------\u001b[0m",
      "\u001b[1;31mTypeError\u001b[0m                                 Traceback (most recent call last)",
      "Cell \u001b[1;32mIn[12], line 5\u001b[0m\n\u001b[0;32m      3\u001b[0m \u001b[38;5;28;01mif\u001b[39;00m \u001b[38;5;28mlen\u001b[39m(n) \u001b[38;5;241m!=\u001b[39m \u001b[38;5;241m9\u001b[39m:\n\u001b[0;32m      4\u001b[0m     \u001b[38;5;28mprint\u001b[39m()\n\u001b[1;32m----> 5\u001b[0m total_sum \u001b[38;5;241m=\u001b[39m \u001b[38;5;28;43msum\u001b[39;49m\u001b[43m(\u001b[49m\u001b[43mn\u001b[49m\u001b[43m)\u001b[49m\n\u001b[0;32m      6\u001b[0m sqrt_value \u001b[38;5;241m=\u001b[39m math\u001b[38;5;241m.\u001b[39msqrt(total_sum)\n\u001b[0;32m      7\u001b[0m int_sqrt_value \u001b[38;5;241m=\u001b[39m \u001b[38;5;28mint\u001b[39m(sqrt_value)\n",
      "\u001b[1;31mTypeError\u001b[0m: 'int' object is not callable"
     ]
    }
   ],
   "source": [
    "import math\n",
    "n = list(map(int, input().split()))\n",
    "if len(n) != 9:\n",
    "    print()\n",
    "total_sum = sum(n)\n",
    "sqrt_value = math.sqrt(total_sum)\n",
    "int_sqrt_value = int(sqrt_value)\n",
    "if int_sqrt_value %2 == 0:\n",
    "    oe = \"even\"\n",
    "else:\n",
    "    oe = \"odd\"\n",
    "\n",
    "print(f\"sum:{total_sum}\")\n",
    "print(f\"squ:{sqrt_value}\")\n",
    "print(f\"squi:{int_sqrt_value}\")\n",
    "print(f\"squi is {oe}\")"
   ]
  },
  {
   "cell_type": "code",
   "execution_count": null,
   "metadata": {},
   "outputs": [],
   "source": [
    "請幫我檢查我用python設計的程式哪裡錯誤\n",
    "\n",
    "題目:請用python設計一個程式，讓使用者輸入停車的分鐘數(整數int型態)，來計算該使用者需要付的停車費用。\n",
    "\n",
    "\n",
    "\n",
    "★停車場費用計算規則：\n",
    "\n",
    "停車滿一個小時$40元，如果未滿一個小時則收費20元。\n",
    "\n",
    "當日停車費最高收費為300元。\n",
    "\n",
    "\n",
    "\n",
    "範例：\n",
    "\n",
    "30分鐘 --> 20元\n",
    "\n",
    "61分鐘 --> 60元 (40+20)\n",
    "\n",
    "121分鐘 --> 100元 (40+40+20)\n",
    "\n",
    "上限為300元，超過300元則視為300元。\n",
    "\n",
    "輸入\n",
    "使用者輸入分鐘數(整數型態)\n",
    "\n",
    "輸出\n",
    "輸出格式\n",
    "\n",
    "park time:停車時間(小時):停車時間(分鐘)\n",
    "\n",
    "pay:停車費用money\n",
    "\n",
    "輸入範例 1:669\n",
    "輸出範例 1:park time:11h:9m\n",
    "pay:300 money\n",
    "\n",
    "輸入範例 2:569\n",
    "輸出範例 2:park time:9h:29m\n",
    "pay:300 money\n",
    "\n",
    "我的程式:\n",
    "m = int(input())\n",
    "hr = m//60\n",
    "min = m%60\n",
    "if m < 60:\n",
    "    money = 20\n",
    "elif m >= 60 and min == 0:\n",
    "    money = 40*hr\n",
    "elif m >= 60 and min != 0:\n",
    "    money = 40*hr + 20\n",
    "if money >= 300:\n",
    "    money = 300\n",
    "print(f'park time:{hr}h:{min}m')\n",
    "print(f'pay:{money} money')"
   ]
  },
  {
   "cell_type": "code",
   "execution_count": 13,
   "metadata": {},
   "outputs": [
    {
     "name": "stdout",
     "output_type": "stream",
     "text": [
      "[3, 5, 7]\n"
     ]
    }
   ],
   "source": [
    "def main():\n",
    "    # 讓使用者輸入三個整數參數: 起始值、終止值、間隔值\n",
    "    user_input = input()\n",
    "    \n",
    "    # 將輸入的字串分割為數字並轉換為整數\n",
    "    start, stop, step = map(int, user_input.split())\n",
    "    \n",
    "    # 使用 range 函數創建範圍並轉換為列表\n",
    "    result_list = list(range(start, stop, step))\n",
    "    \n",
    "    # 輸出結果\n",
    "    print(result_list)\n",
    "\n",
    "if __name__ == \"__main__\":\n",
    "    main()\n"
   ]
  },
  {
   "cell_type": "code",
   "execution_count": 14,
   "metadata": {},
   "outputs": [
    {
     "name": "stdout",
     "output_type": "stream",
     "text": [
      "Invalid\n"
     ]
    }
   ],
   "source": [
    "a,b,c = map(int, input().split())\n",
    "if a==b or a==c or b==c:\n",
    "    print(\"Valid\")\n",
    "else:\n",
    "    print(\"Invalid\")"
   ]
  },
  {
   "cell_type": "code",
   "execution_count": 20,
   "metadata": {},
   "outputs": [
    {
     "name": "stdout",
     "output_type": "stream",
     "text": [
      "park time:1h:9m\n",
      "pay:60 money\n"
     ]
    }
   ],
   "source": [
    "m = int(input())\n",
    "hr = m//60\n",
    "min = m%60\n",
    "if m < 60:\n",
    "    money = 20\n",
    "elif m >= 60 and min == 0:\n",
    "    money = 40*hr\n",
    "elif m >= 60 and min != 0:\n",
    "    money = 40*hr + 20\n",
    "if money >= 300:\n",
    "    money = 300\n",
    "print(f'park time:{hr}h:{min}m')\n",
    "print(f'pay:{money} money')"
   ]
  },
  {
   "cell_type": "code",
   "execution_count": null,
   "metadata": {},
   "outputs": [],
   "source": [
    "def main():\n",
    "    # 讓使用者輸入停車的分鐘數\n",
    "    m = int(input())\n",
    "    \n",
    "    # 計算小時數和剩餘分鐘數\n",
    "    hr = m // 60\n",
    "    min = m % 60\n",
    "    \n",
    "    # 根據停車時間計算費用\n",
    "    if m % 60 == 0:  # 停車時間正好是整小時\n",
    "        money = 40 * hr\n",
    "    else:  # 停車時間超過整小時\n",
    "        money = 40 * hr + 20\n",
    "    \n",
    "    # 確保費用不超過最高收費上限\n",
    "    money = min(money, 300)\n",
    "    \n",
    "    # 輸出結果\n",
    "    print(f'park time:{hr}h:{min}m')\n",
    "    print(f'pay:{money} money')\n",
    "\n",
    "if __name__ == \"__main__\":\n",
    "    main()\n"
   ]
  },
  {
   "cell_type": "code",
   "execution_count": null,
   "metadata": {},
   "outputs": [],
   "source": [
    "def calculate_parking_fee(minutes):\n",
    "\n",
    "    hourly_rate = 40\n",
    "\n",
    "    less_than_hour_rate = 20\n",
    "\n",
    "    max_fee = 300\n",
    "\n",
    "    full_hours = minutes // 60\n",
    "\n",
    "    remaining_minutes = minutes % 60\n",
    "\n",
    "    if remaining_minutes == 0:\n",
    "        total_fee = full_hours * hourly_rate\n",
    "    else:\n",
    "        total_fee = full_hours * hourly_rate + less_than_hour_rate\n",
    "    return min(total_fee, max_fee), full_hours, remaining_minutes\n",
    "\n",
    "\n",
    "minutes = int(input())\n",
    "\n",
    "fee, hours, remaining_minutes = calculate_parking_fee(minutes)\n",
    "\n",
    "print(f\"park time:{hours}h:{remaining_minutes}m\")\n",
    "print(f\"pay:{fee} money\")\n"
   ]
  },
  {
   "cell_type": "code",
   "execution_count": null,
   "metadata": {},
   "outputs": [],
   "source": [
    "# 讀取用戶輸入的起始值和終止值\n",
    "start, end = map(int, input().split())\n",
    "\n",
    "# 儲存水仙花數的列表\n",
    "narcissistic_numbers = []\n",
    "\n",
    "# 遍歷指定範圍內的每個數字\n",
    "for num in range(start, end + 1):\n",
    "    if 100 <= num <= 999:  # 確保數字是三位數\n",
    "        # 提取百位、十位和個位數字\n",
    "        hundreds = num // 100\n",
    "        tens = (num // 10) % 10\n",
    "        ones = num % 10\n",
    "        \n",
    "        # 計算每位數字的立方和\n",
    "        if hundreds**3 + tens**3 + ones**3 == num:\n",
    "            narcissistic_numbers.append(num)\n",
    "\n",
    "# 格式化輸出結果\n",
    "print(\",\".join(map(str, narcissistic_numbers)) + \",\")\n"
   ]
  },
  {
   "cell_type": "code",
   "execution_count": 21,
   "metadata": {},
   "outputs": [
    {
     "name": "stdout",
     "output_type": "stream",
     "text": [
      "Tku apple\n"
     ]
    }
   ],
   "source": [
    "a = input()\n",
    "print(f'Tku {a}')"
   ]
  },
  {
   "cell_type": "code",
   "execution_count": 22,
   "metadata": {},
   "outputs": [
    {
     "name": "stdout",
     "output_type": "stream",
     "text": [
      "5\n"
     ]
    }
   ],
   "source": [
    "a = input()\n",
    "print(len(a))"
   ]
  },
  {
   "cell_type": "code",
   "execution_count": 23,
   "metadata": {},
   "outputs": [
    {
     "name": "stdout",
     "output_type": "stream",
     "text": [
      "5.00\n"
     ]
    }
   ],
   "source": [
    "# 獲取使用者的輸入字串\n",
    "user_input = input()\n",
    "\n",
    "# 計算字串的長度\n",
    "length = len(user_input)\n",
    "\n",
    "# 使用 % 格式化輸出長度至小數點後兩位\n",
    "print(\"%.2f\" % length)\n"
   ]
  },
  {
   "cell_type": "code",
   "execution_count": null,
   "metadata": {},
   "outputs": [],
   "source": [
    "請用python設計一個計算梯形面積的程式，讓使用者分三行依序輸入浮點數的上底、下底、高度，最後再計算出面積為何。\n",
    "\n",
    "(題目沒有指定需要輸出小數點至後幾位。)\n",
    "\n",
    "\n",
    "\n",
    "注意：系統會自動帶入底下input值至你的程式碼做驗證，故請勿使用暴力解法。\n",
    "\n",
    "梯形面積公式： (上底 + 下底) x 高度 ÷ 2\n",
    "\n",
    "\n",
    "輸入\n",
    "(參考下方input sample)\n",
    "\n",
    "請分三行讓使用者分別輸入浮點數的上底、下底、高度。\n",
    "\n",
    "\n",
    "輸出\n",
    "(參考下方output sample)\n",
    "\n",
    "題目沒有指定需要輸出小數點至後幾位。\n",
    "\n",
    "輸出格式為 t=變數b=變數h=變數area=變數\n",
    "\n",
    "輸入範例 1 \n",
    "2\n",
    "5\n",
    "4.8\n",
    "\n",
    "輸出範例 1\n",
    "t=2.0 b=5.0 h=4.8 area=16.8"
   ]
  },
  {
   "cell_type": "code",
   "execution_count": 25,
   "metadata": {},
   "outputs": [
    {
     "name": "stdout",
     "output_type": "stream",
     "text": [
      "t=2.0 b=5.0 h=4.8 area=16.8\n"
     ]
    }
   ],
   "source": [
    "# 讀取上底、下底和高度的浮點數\n",
    "top_base = float(input())\n",
    "bottom_base = float(input())\n",
    "height = float(input())\n",
    "\n",
    "# 計算梯形的面積\n",
    "area = (top_base + bottom_base) * height / 2\n",
    "\n",
    "# 按照指定格式輸出結果\n",
    "print(f\"t={top_base} b={bottom_base} h={height} area={area}\")\n"
   ]
  },
  {
   "cell_type": "code",
   "execution_count": 26,
   "metadata": {},
   "outputs": [
    {
     "name": "stdout",
     "output_type": "stream",
     "text": [
      "21.0\n"
     ]
    }
   ],
   "source": [
    "# 讀取使用者輸入的三個浮點數\n",
    "top_base = float(input())\n",
    "bottom_base = float(input())\n",
    "height = float(input())\n",
    "\n",
    "# 計算梯形的面積\n",
    "area = (top_base + bottom_base) * height / 2\n",
    "\n",
    "# 輸出面積\n",
    "print(area)"
   ]
  },
  {
   "cell_type": "code",
   "execution_count": null,
   "metadata": {},
   "outputs": [],
   "source": []
  }
 ],
 "metadata": {
  "kernelspec": {
   "display_name": "Python 3",
   "language": "python",
   "name": "python3"
  },
  "language_info": {
   "codemirror_mode": {
    "name": "ipython",
    "version": 3
   },
   "file_extension": ".py",
   "mimetype": "text/x-python",
   "name": "python",
   "nbconvert_exporter": "python",
   "pygments_lexer": "ipython3",
   "version": "3.12.4"
  }
 },
 "nbformat": 4,
 "nbformat_minor": 2
}
