{
 "cells": [
  {
   "cell_type": "code",
   "execution_count": 1,
   "metadata": {},
   "outputs": [
    {
     "name": "stdout",
     "output_type": "stream",
     "text": [
      "2.5\n"
     ]
    }
   ],
   "source": [
    "a = float(input())\n",
    "b = float(input())\n",
    "print(a%b)"
   ]
  },
  {
   "cell_type": "code",
   "execution_count": 2,
   "metadata": {},
   "outputs": [
    {
     "name": "stdout",
     "output_type": "stream",
     "text": [
      "153,\n"
     ]
    }
   ],
   "source": [
    "a, b = map(int, input().split())\n",
    "n = []\n",
    "for num in range(a,b):\n",
    "    if 100 <= num <= 999:\n",
    "        h = num // 100\n",
    "        t = (num //10) % 10\n",
    "        o = num % 10\n",
    "        if h ** 3 + t ** 3 + o ** 3 == num:\n",
    "            n.append(num)\n",
    "print(\",\".join(map(str, n)) + \",\")"
   ]
  },
  {
   "cell_type": "code",
   "execution_count": 3,
   "metadata": {},
   "outputs": [
    {
     "name": "stdout",
     "output_type": "stream",
     "text": [
      "t=2.0 b=5.0 h=4.8 area=16.8\n"
     ]
    }
   ],
   "source": [
    "a = float(input())\n",
    "b = float(input())\n",
    "c = float(input())\n",
    "d = (a+b) * c / 2\n",
    "print(f\"t={a} b={b} h={c} area={d}\")"
   ]
  },
  {
   "cell_type": "code",
   "execution_count": 4,
   "metadata": {},
   "outputs": [
    {
     "name": "stdout",
     "output_type": "stream",
     "text": [
      "park time:11h:9m\n",
      "pay:300 money\n"
     ]
    }
   ],
   "source": [
    "m = int(input())\n",
    "hr = m//60\n",
    "min = m%60\n",
    "if min == 0:\n",
    "    total = hr*40\n",
    "else:\n",
    "    total = hr*40+20\n",
    "if total>300:\n",
    "    total = 300\n",
    "print(f\"park time:{hr}h:{min}m\")\n",
    "print(f\"pay:{total} money\")"
   ]
  },
  {
   "cell_type": "code",
   "execution_count": 5,
   "metadata": {},
   "outputs": [
    {
     "name": "stdout",
     "output_type": "stream",
     "text": [
      "[3, 4, 5, 6, 7]\n"
     ]
    }
   ],
   "source": [
    "a, b, c = map(int, input().split())\n",
    "r = list(range(a, b, c))\n",
    "print(r)\n"
   ]
  },
  {
   "cell_type": "code",
   "execution_count": 6,
   "metadata": {},
   "outputs": [
    {
     "name": "stdout",
     "output_type": "stream",
     "text": [
      "2000 is leap year\n"
     ]
    }
   ],
   "source": [
    "y = int(input())\n",
    "if y % 4 == 0 and y % 100 != 0:\n",
    "    print(f\"{y} is leap year\")\n",
    "elif y % 100 == 0 and y % 400 ==0:\n",
    "    print(f\"{y} is leap year\")\n",
    "else:\n",
    "    print(f\"{y} is common year\")"
   ]
  },
  {
   "cell_type": "code",
   "execution_count": 7,
   "metadata": {},
   "outputs": [
    {
     "name": "stdout",
     "output_type": "stream",
     "text": [
      "120 is error\n"
     ]
    }
   ],
   "source": [
    "x = int(input())\n",
    "if x > 100:\n",
    "    print(x, \"is error\")\n",
    "elif 90 <= x <= 100:\n",
    "    print(x, \"is A\")\n",
    "elif 80 <= x <= 89:\n",
    "    print(x, \"is B\")\n",
    "elif 70 <= x <= 79:\n",
    "    print(x, \"is C\")\n",
    "elif 60 <= x <= 69:\n",
    "    print(x, \"is D\")\n",
    "elif 0 <= x <= 59:\n",
    "    print(x, \"is E\")\n",
    "elif x < 0:\n",
    "    print(x, \"is error\")"
   ]
  },
  {
   "cell_type": "code",
   "execution_count": 8,
   "metadata": {},
   "outputs": [
    {
     "name": "stdout",
     "output_type": "stream",
     "text": [
      "0,5,10,15,20,25,30,35,40,45,50,55,60,65,70,75,80,85,90,95,"
     ]
    }
   ],
   "source": [
    "a, b, c = map(int,input().split())\n",
    "for i in range(a,b,c):\n",
    "    print(i,end=',')"
   ]
  },
  {
   "cell_type": "code",
   "execution_count": 9,
   "metadata": {},
   "outputs": [
    {
     "name": "stdout",
     "output_type": "stream",
     "text": [
      "*\n",
      "**\n",
      "***\n",
      "****\n",
      "*****\n"
     ]
    }
   ],
   "source": [
    "n = int(input())\n",
    "for i in range(1, n + 1):\n",
    "    print('*' * i)"
   ]
  },
  {
   "cell_type": "code",
   "execution_count": 10,
   "metadata": {},
   "outputs": [
    {
     "name": "stdout",
     "output_type": "stream",
     "text": [
      "9*1=9 9*2=18 9*3=27 9*4=36 9*5=45 9*6=54 9*7=63 9*8=72 9*9=81 \n"
     ]
    }
   ],
   "source": [
    "n = int(input())\n",
    "for i in range(n, 10): \n",
    "    for j in range(1, 10):  \n",
    "        print(\"%d*%d=%d\" % (i, j, i*j), end=\" \")\n",
    "    print()"
   ]
  },
  {
   "cell_type": "code",
   "execution_count": null,
   "metadata": {},
   "outputs": [],
   "source": []
  }
 ],
 "metadata": {
  "kernelspec": {
   "display_name": "Python 3",
   "language": "python",
   "name": "python3"
  },
  "language_info": {
   "codemirror_mode": {
    "name": "ipython",
    "version": 3
   },
   "file_extension": ".py",
   "mimetype": "text/x-python",
   "name": "python",
   "nbconvert_exporter": "python",
   "pygments_lexer": "ipython3",
   "version": "3.12.4"
  }
 },
 "nbformat": 4,
 "nbformat_minor": 2
}
