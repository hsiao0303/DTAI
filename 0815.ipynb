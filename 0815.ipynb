{
 "cells": [
  {
   "cell_type": "code",
   "execution_count": 1,
   "metadata": {},
   "outputs": [
    {
     "name": "stdout",
     "output_type": "stream",
     "text": [
      "rpwp\n"
     ]
    }
   ],
   "source": [
    "print(\"rpwp\")"
   ]
  },
  {
   "cell_type": "code",
   "execution_count": 2,
   "metadata": {},
   "outputs": [
    {
     "name": "stdout",
     "output_type": "stream",
     "text": [
      "Hello world, I am oxxo!!\n",
      "Hello world, I am xoox!!\n",
      "there are 2 dollars\n",
      "there are 2.000000 dollars\n"
     ]
    }
   ],
   "source": [
    "a = 'Hello world, I am %s!!'\n",
    "b = 'there are %d dollars'\n",
    "c = 'there are %f dollars'\n",
    "print(a % 'oxxo')  # Hello world, I am oxxo!!\n",
    "print(a % 'xoox')  # Hello world, I am xoox!!\n",
    "print(b % 2.5)     # there are 2 dollars ( 小數點被無條件捨去 )\n",
    "print(c % 2)       # there are 2.000000 dollars ( 整數轉換成浮點數 )"
   ]
  },
  {
   "cell_type": "code",
   "execution_count": 3,
   "metadata": {},
   "outputs": [
    {
     "name": "stdout",
     "output_type": "stream",
     "text": [
      "hello world\n",
      "       hello world\n",
      "       hello world\n",
      "hello        world\n",
      "hel world\n",
      "         hel world\n",
      "123.457 world\n"
     ]
    }
   ],
   "source": [
    "print('%s world' % 'hello')      # hello world\n",
    "print('%12s world' % 'hello')    #        hello world\n",
    "print('%+12s world' % 'hello')   #        hello world\n",
    "print('%-12s world' % 'hello')   # hello        world\n",
    "print('%.3s world' % 'hello')    # hel world\n",
    "print('%12.3s world' % 'hello')  #          hel world\n",
    "\n",
    "print('%.3f world' % 123.456789) # 123.457 world"
   ]
  },
  {
   "cell_type": "code",
   "execution_count": 4,
   "metadata": {},
   "outputs": [
    {
     "name": "stdout",
     "output_type": "stream",
     "text": [
      "hello world, ther are 2.500000 dollars!\n"
     ]
    }
   ],
   "source": [
    "a = '%s world, ther are %f dollars!'\n",
    "b = a % ('hello', 2.5)\n",
    "print(b)   # hello world, ther are 2.500000 dollars!"
   ]
  },
  {
   "cell_type": "code",
   "execution_count": 5,
   "metadata": {},
   "outputs": [
    {
     "name": "stdout",
     "output_type": "stream",
     "text": [
      "hello world, I am oxxo\n"
     ]
    }
   ],
   "source": [
    "a = 'hello {}, I am {}'\n",
    "b = a.format('world', 'oxxo')\n",
    "print(b)   # hello world, I am oxxo"
   ]
  },
  {
   "cell_type": "code",
   "execution_count": 8,
   "metadata": {},
   "outputs": [
    {
     "name": "stdout",
     "output_type": "stream",
     "text": [
      "rm's second solo album is rpwp,jimin's second solo album is muse\n"
     ]
    }
   ],
   "source": [
    "c = \"rm's second solo album is {},jimin's second solo album is {}\"\n",
    "d=c.format(\"rpwp\",\"muse\")\n",
    "print(d)"
   ]
  },
  {
   "cell_type": "code",
   "execution_count": 18,
   "metadata": {},
   "outputs": [
    {
     "name": "stdout",
     "output_type": "stream",
     "text": [
      "hello world, I am oxxo, num 777\n"
     ]
    }
   ],
   "source": [
    "a = 'hello {0}, I am {1}, num {2}'\n",
    "b = a.format('world', 'oxxo','777')\n",
    "print(b)   "
   ]
  },
  {
   "cell_type": "code",
   "execution_count": 16,
   "metadata": {},
   "outputs": [
    {
     "name": "stdout",
     "output_type": "stream",
     "text": [
      "hello world, I am oxxo\n"
     ]
    }
   ],
   "source": [
    "a = 'hello {m}, I am {n}'\n",
    "b = a.format(m='world', n='oxxo')\n",
    "print(b)"
   ]
  },
  {
   "cell_type": "code",
   "execution_count": 19,
   "metadata": {},
   "outputs": [
    {
     "name": "stdout",
     "output_type": "stream",
     "text": [
      "hello world, I am oxxo\n",
      "hello world     , I am oxxo      \n",
      "hello      world, I am       oxxo\n",
      "hello --world---, I am +++oxxo+++\n",
      "hello ---wor----, I am ---oxxo---\n",
      "hello ---wor----, I am  123.457  \n"
     ]
    }
   ],
   "source": [
    "a = 'hello {}, I am {}'.format('world','oxxo')\n",
    "b = 'hello {:10s}, I am {:10s}'.format('world','oxxo')\n",
    "c = 'hello {:>10s}, I am {:>10s}'.format('world','oxxo')\n",
    "d = 'hello {:-^10s}, I am {:+^10s}'.format('world','oxxo')\n",
    "e = 'hello {:-^10.3s}, I am {:-^10s}'.format('world','oxxo')\n",
    "f = 'hello {:-^10.3s}, I am {:^10.3f}'.format('world',123.456789)\n",
    "print(a)  # hello world, I am oxxo\n",
    "print(b)  # hello world     , I am oxxo\n",
    "print(c)  # hello      world, I am       oxxo\n",
    "print(d)  # hello --world---, I am +++oxxo+++\n",
    "print(e)  # hello ---wor----, I am ---oxxo---\n",
    "print(f)  # hello ---wor----, I am  123.457"
   ]
  },
  {
   "cell_type": "code",
   "execution_count": 33,
   "metadata": {},
   "outputs": [
    {
     "name": "stdout",
     "output_type": "stream",
     "text": [
      "hello +++world---, I am +++oxxo---\n"
     ]
    }
   ],
   "source": [
    "a = 'hello {:+>6s}{:-<5s}, I am {:+>5s}{:-<5s}'.format('wor','ld','ox','xo')\n",
    "print(a)"
   ]
  },
  {
   "cell_type": "code",
   "execution_count": 35,
   "metadata": {},
   "outputs": [
    {
     "name": "stdout",
     "output_type": "stream",
     "text": [
      "hello +++world---, I am +++oxxo---\n"
     ]
    }
   ],
   "source": [
    "g = \"hello +++{}---, I am +++{}---\".format(\"world\",\"oxxo\")\n",
    "print(g)"
   ]
  },
  {
   "cell_type": "code",
   "execution_count": 38,
   "metadata": {},
   "outputs": [
    {
     "name": "stdout",
     "output_type": "stream",
     "text": [
      "hello +++world---, I am +++oxxo---\n"
     ]
    }
   ],
   "source": [
    "h = \"oxxo\"\n",
    "i = f\"hello +++world---, I am +++{h}---\"\n",
    "print(i)"
   ]
  },
  {
   "cell_type": "code",
   "execution_count": 39,
   "metadata": {},
   "outputs": [
    {
     "name": "stdout",
     "output_type": "stream",
     "text": [
      "hello world, I am oxxo\n"
     ]
    }
   ],
   "source": [
    "a = 'world'\n",
    "b = 'oxxo'\n",
    "c = f'hello {a}, I am {b}'\n",
    "print(c)   # hello world, I am oxxo"
   ]
  },
  {
   "cell_type": "code",
   "execution_count": 43,
   "metadata": {},
   "outputs": [
    {
     "name": "stdout",
     "output_type": "stream",
     "text": [
      "001 , 002 , 003 , 004 , 005 , 006 , 007 , 008 , 009 , 010 , \n",
      "011 , 012 , 013 , 014 , 015 , 016 , 017 , 018 , 019 , 020 , \n",
      "021 , 022 , 023 , 024 , 025 , 026 , 027 , 028 , 029 , 030 , \n",
      "031 , 032 , 033 , 034 , 035 , 036 , 037 , 038 , 039 , 040 , \n",
      "041 , 042 , 043 , 044 , 045 , 046 , 047 , 048 , 049 , 050 , \n",
      "051 , 052 , 053 , 054 , 055 , 056 , 057 , 058 , 059 , 060 , \n",
      "061 , 062 , 063 , 064 , 065 , 066 , 067 , 068 , 069 , 070 , \n",
      "071 , 072 , 073 , 074 , 075 , 076 , 077 , 078 , 079 , 080 , \n",
      "081 , 082 , 083 , 084 , 085 , 086 , 087 , 088 , 089 , 090 , \n",
      "091 , 092 , 093 , 094 , 095 , 096 , 097 , 098 , 099 , 100 , \n"
     ]
    }
   ],
   "source": [
    "c = 0\n",
    "for i in range(1,101):\n",
    "  print(f'{i:03d}',end=' , ')\n",
    "  c += 1\n",
    "  if c % 10 == 0:\n",
    "    print()"
   ]
  },
  {
   "cell_type": "code",
   "execution_count": 53,
   "metadata": {},
   "outputs": [
    {
     "name": "stdout",
     "output_type": "stream",
     "text": [
      "9.12\n"
     ]
    }
   ],
   "source": [
    "n = eval(input(\"請輸入數字\"))\n",
    "a = f'{n:.2f}'\n",
    "print(a)"
   ]
  },
  {
   "cell_type": "code",
   "execution_count": 51,
   "metadata": {},
   "outputs": [
    {
     "name": "stdout",
     "output_type": "stream",
     "text": [
      "hello world\n"
     ]
    }
   ],
   "source": [
    "a = str(input(\"\"))\n",
    "b = str(input(\"\"))\n",
    "c = f'{a} {b}'\n",
    "print(c)"
   ]
  },
  {
   "cell_type": "code",
   "execution_count": 55,
   "metadata": {},
   "outputs": [
    {
     "name": "stdout",
     "output_type": "stream",
     "text": [
      "You are 18 years old.\n"
     ]
    }
   ],
   "source": [
    "y = int(input(\"請輸入年份\"))\n",
    "z = 2024-y\n",
    "print(f'You are {z} years old.')"
   ]
  },
  {
   "cell_type": "code",
   "execution_count": 59,
   "metadata": {},
   "outputs": [
    {
     "name": "stdout",
     "output_type": "stream",
     "text": [
      "2024-08-15- report.pdf\n"
     ]
    }
   ],
   "source": [
    "a = str(input(\"請輸入檔案名\"))\n",
    "b = str(input(\"請輸入副檔名\"))\n",
    "print(f'2024-08-15- {a}.{b}')"
   ]
  },
  {
   "cell_type": "code",
   "execution_count": 61,
   "metadata": {},
   "outputs": [
    {
     "name": "stdout",
     "output_type": "stream",
     "text": [
      "6*7=42\n"
     ]
    }
   ],
   "source": [
    "a = int(input(\"請輸入一個整數\"))\n",
    "b = int(input(\"請輸入一個整數\"))\n",
    "print(f'{a}*{b}={a*b}')"
   ]
  },
  {
   "cell_type": "code",
   "execution_count": 62,
   "metadata": {},
   "outputs": [
    {
     "name": "stdout",
     "output_type": "stream",
     "text": [
      "2020 is leap year\n"
     ]
    }
   ],
   "source": [
    "year = int(input())\n",
    "if year%4==0:\n",
    "    if year%100==0:\n",
    "        if year%400==0:\n",
    "            print(f'{year} is leap year')\n",
    "        else:\n",
    "            print(f'{year} is common year')\n",
    "    else:\n",
    "        print(f'{year} is leap year')\n",
    "else:\n",
    "    print(f'(year) is common year')"
   ]
  },
  {
   "cell_type": "code",
   "execution_count": 63,
   "metadata": {},
   "outputs": [
    {
     "name": "stdout",
     "output_type": "stream",
     "text": [
      "6*1=6 6*2=12 6*3=18 6*4=24 6*5=30 6*6=36 6*7=42 6*8=48 6*9=54 \n",
      "7*1=7 7*2=14 7*3=21 7*4=28 7*5=35 7*6=42 7*7=49 7*8=56 7*9=63 \n",
      "8*1=8 8*2=16 8*3=24 8*4=32 8*5=40 8*6=48 8*7=56 8*8=64 8*9=72 \n",
      "9*1=9 9*2=18 9*3=27 9*4=36 9*5=45 9*6=54 9*7=63 9*8=72 9*9=81 \n"
     ]
    }
   ],
   "source": [
    "n = int(input(\"\"))\n",
    "for i in range(n,10):\n",
    "    for j in range(1,10):\n",
    "        print(\"%d*%d=%d\" % (i,j,i*j), end=\" \")\n",
    "    print()"
   ]
  },
  {
   "cell_type": "code",
   "execution_count": 78,
   "metadata": {},
   "outputs": [
    {
     "name": "stdout",
     "output_type": "stream",
     "text": [
      "abc\n",
      "3 letters\n"
     ]
    }
   ],
   "source": [
    "a = str(input(\"\"))\n",
    "b = (len(a))\n",
    "print(\"%s\" % (a))\n",
    "print(\"%s\" % (b),\"letters\")"
   ]
  },
  {
   "cell_type": "code",
   "execution_count": 80,
   "metadata": {},
   "outputs": [
    {
     "name": "stdout",
     "output_type": "stream",
     "text": [
      "a= 4.0 b= 5.0\n",
      "ans= 9.0\n"
     ]
    }
   ],
   "source": [
    "a = eval(input(\"\"))\n",
    "b = eval(input(\"\"))\n",
    "c = a**0.5\n",
    "d = b**0.5\n",
    "print(\"a=\",c,\"b=\",d)\n",
    "print(\"ans=\",c+d)"
   ]
  },
  {
   "cell_type": "code",
   "execution_count": 87,
   "metadata": {},
   "outputs": [
    {
     "name": "stdout",
     "output_type": "stream",
     "text": [
      "a=6.0 b=7.0\n",
      "ans=13.0\n"
     ]
    }
   ],
   "source": [
    "a = float(input(\"\"))\n",
    "b = float(input(\"\"))\n",
    "print (f'a={a**0.5} b={b**0.5}')\n",
    "print(f'ans={a**0.5+b**0.5}')"
   ]
  },
  {
   "cell_type": "code",
   "execution_count": null,
   "metadata": {},
   "outputs": [],
   "source": [
    "a = float(input(\"\"))\n",
    "b = float(input(\"\"))\n",
    "print (f'a={a**0.5} b={b**0.5}')\n",
    "print(f'ans={a**0.5+b**0.5}')"
   ]
  },
  {
   "cell_type": "code",
   "execution_count": 89,
   "metadata": {},
   "outputs": [
    {
     "name": "stdout",
     "output_type": "stream",
     "text": [
      "24.41\n"
     ]
    }
   ],
   "source": [
    "a = float(input(\"\"))\n",
    "b = float(input(\"\"))\n",
    "BMI = b/a**2\n",
    "print(round(BMI,2))"
   ]
  },
  {
   "cell_type": "code",
   "execution_count": 98,
   "metadata": {},
   "outputs": [
    {
     "name": "stdout",
     "output_type": "stream",
     "text": [
      "20.72\n"
     ]
    }
   ],
   "source": [
    "a,b=map(float,input().split())\n",
    "BMI = b/a**2\n",
    "print(round(BMI,2))"
   ]
  },
  {
   "cell_type": "code",
   "execution_count": null,
   "metadata": {},
   "outputs": [],
   "source": [
    "a,b=map(float,input().split())\n",
    "BMI = b/a**2\n",
    "print(round(BMI,2))"
   ]
  },
  {
   "cell_type": "code",
   "execution_count": 99,
   "metadata": {},
   "outputs": [
    {
     "name": "stdout",
     "output_type": "stream",
     "text": [
      "a=2.0 b=3.0\n",
      "ans=5.0\n"
     ]
    }
   ],
   "source": [
    "a,b=map(float,input().split())\n",
    "print (f'a={a**0.5} b={b**0.5}')\n",
    "print(f'ans={a**0.5+b**0.5}')"
   ]
  },
  {
   "cell_type": "code",
   "execution_count": 104,
   "metadata": {},
   "outputs": [
    {
     "name": "stdout",
     "output_type": "stream",
     "text": [
      "45\n"
     ]
    }
   ],
   "source": [
    "a,b,c,d,e,f,g,h,i = list(map(int,input().split()))\n",
    "print(a+b+c+d+e+f+g+h+i)\n"
   ]
  },
  {
   "cell_type": "code",
   "execution_count": 108,
   "metadata": {},
   "outputs": [
    {
     "name": "stdout",
     "output_type": "stream",
     "text": [
      "a=15 b=26\n",
      "a=26 b=15\n"
     ]
    }
   ],
   "source": [
    "a,b = (map(int,input().split()))\n",
    "c = 'a={} b={}'\n",
    "print(c.format(a,b))\n",
    "print(c.format(b,a))\n"
   ]
  },
  {
   "cell_type": "code",
   "execution_count": 111,
   "metadata": {},
   "outputs": [
    {
     "name": "stdout",
     "output_type": "stream",
     "text": [
      "100\n"
     ]
    }
   ],
   "source": [
    "n = int(input())\n",
    "sum=0\n",
    "for i in range(15,n+1):\n",
    "  if(i%2==0):\n",
    "    sum+=i\n",
    "print(sum)"
   ]
  },
  {
   "cell_type": "code",
   "execution_count": null,
   "metadata": {},
   "outputs": [],
   "source": []
  }
 ],
 "metadata": {
  "kernelspec": {
   "display_name": "Python 3",
   "language": "python",
   "name": "python3"
  },
  "language_info": {
   "codemirror_mode": {
    "name": "ipython",
    "version": 3
   },
   "file_extension": ".py",
   "mimetype": "text/x-python",
   "name": "python",
   "nbconvert_exporter": "python",
   "pygments_lexer": "ipython3",
   "version": "3.12.4"
  }
 },
 "nbformat": 4,
 "nbformat_minor": 2
}
