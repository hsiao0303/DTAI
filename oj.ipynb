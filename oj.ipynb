{
 "cells": [
  {
   "cell_type": "code",
   "execution_count": 1,
   "metadata": {},
   "outputs": [
    {
     "name": "stdout",
     "output_type": "stream",
     "text": [
      "10\n"
     ]
    }
   ],
   "source": [
    "#5\n",
    "num = input().split()\n",
    "a, b, c = map(int,num)\n",
    "if a<b and a<c:\n",
    "    print(a)\n",
    "elif b<a and b<c:\n",
    "    print(b)\n",
    "elif c<a and c<b:\n",
    "    print(c)"
   ]
  },
  {
   "cell_type": "code",
   "execution_count": 2,
   "metadata": {},
   "outputs": [
    {
     "name": "stdout",
     "output_type": "stream",
     "text": [
      "84\n"
     ]
    }
   ],
   "source": [
    "#8\n",
    "n = int(input())\n",
    "sum1 = 0\n",
    "for i in range(1,n+1):\n",
    "    if i %3 == 0 or i %7 == 0:\n",
    "        sum1+=i\n",
    "print(sum1)"
   ]
  },
  {
   "cell_type": "code",
   "execution_count": 3,
   "metadata": {},
   "outputs": [
    {
     "name": "stdout",
     "output_type": "stream",
     "text": [
      "*\n",
      "**\n",
      "***\n",
      "****\n"
     ]
    }
   ],
   "source": [
    "#9\n",
    "n = int(input())\n",
    "for i in range(1, n + 1):\n",
    "    print('*' * i)"
   ]
  },
  {
   "cell_type": "code",
   "execution_count": 4,
   "metadata": {},
   "outputs": [
    {
     "name": "stdout",
     "output_type": "stream",
     "text": [
      "1\n",
      "12\n",
      "123\n",
      "1234\n",
      "12345\n"
     ]
    }
   ],
   "source": [
    "#10\n",
    "n = int(input())\n",
    "for i in range(1,n+1):\n",
    "    for j in range(1,i+1):\n",
    "        print(j,end=\"\")\n",
    "    print()"
   ]
  },
  {
   "cell_type": "code",
   "execution_count": 5,
   "metadata": {},
   "outputs": [
    {
     "name": "stdout",
     "output_type": "stream",
     "text": [
      "Valid\n"
     ]
    }
   ],
   "source": [
    "#14\n",
    "a,b,c = map(int, input().split())\n",
    "if a+b>c and a+c>b and b+c>a:\n",
    "    print(\"Valid\")\n",
    "else:\n",
    "    print(\"Invalid\")"
   ]
  },
  {
   "cell_type": "code",
   "execution_count": 13,
   "metadata": {},
   "outputs": [
    {
     "name": "stdout",
     "output_type": "stream",
     "text": [
      "2000 is leap year\n"
     ]
    }
   ],
   "source": [
    "#18\n",
    "y = int(input())\n",
    "if y % 4 == 0 and y % 100 != 0:\n",
    "    print(f\"{y} is leap year\")\n",
    "elif y % 100 == 0 and y % 400 ==0:\n",
    "    print(f\"{y} is leap year\")\n",
    "else:\n",
    "    print(f\"{y} is common year\")"
   ]
  },
  {
   "cell_type": "code",
   "execution_count": 22,
   "metadata": {},
   "outputs": [
    {
     "name": "stdout",
     "output_type": "stream",
     "text": [
      "5*1=5 5*2=10 5*3=15 5*4=20 5*5=25 5*6=30 5*7=35 5*8=40 5*9=45 \n",
      "6*1=6 6*2=12 6*3=18 6*4=24 6*5=30 6*6=36 6*7=42 6*8=48 6*9=54 \n",
      "7*1=7 7*2=14 7*3=21 7*4=28 7*5=35 7*6=42 7*7=49 7*8=56 7*9=63 \n",
      "8*1=8 8*2=16 8*3=24 8*4=32 8*5=40 8*6=48 8*7=56 8*8=64 8*9=72 \n",
      "9*1=9 9*2=18 9*3=27 9*4=36 9*5=45 9*6=54 9*7=63 9*8=72 9*9=81 \n"
     ]
    }
   ],
   "source": [
    "#19\n",
    "n = int(input())\n",
    "for i in range(n, 10): \n",
    "    for j in range(1, 10):  \n",
    "        print(\"%d*%d=%d\" % (i, j, i*j), end=\" \")\n",
    "    print()"
   ]
  },
  {
   "cell_type": "code",
   "execution_count": 23,
   "metadata": {},
   "outputs": [
    {
     "name": "stdout",
     "output_type": "stream",
     "text": [
      "Ans apple\n"
     ]
    }
   ],
   "source": [
    "#21\n",
    "w = input()\n",
    "print(\"Ans\",w)"
   ]
  },
  {
   "cell_type": "code",
   "execution_count": 24,
   "metadata": {},
   "outputs": [
    {
     "name": "stdout",
     "output_type": "stream",
     "text": [
      "38\n"
     ]
    }
   ],
   "source": [
    "#22\n",
    "a,b,c,d,e,f,g,h,i = map(int, input().split())\n",
    "print(a+b+c+d+e+f+g+h+i)"
   ]
  },
  {
   "cell_type": "code",
   "execution_count": 26,
   "metadata": {},
   "outputs": [
    {
     "name": "stdout",
     "output_type": "stream",
     "text": [
      "17\n"
     ]
    }
   ],
   "source": [
    "#23\n",
    "w = input()\n",
    "print(len(w))"
   ]
  },
  {
   "cell_type": "code",
   "execution_count": 27,
   "metadata": {},
   "outputs": [
    {
     "name": "stdout",
     "output_type": "stream",
     "text": [
      "90 is A\n"
     ]
    }
   ],
   "source": [
    "#26\n",
    "x = int(input())\n",
    "if x > 100:\n",
    "    print(x, \"is error\")\n",
    "elif 90 <= x <= 100:\n",
    "    print(x, \"is A\")\n",
    "elif 80 <= x <= 89:\n",
    "    print(x, \"is B\")\n",
    "elif 70 <= x <= 79:\n",
    "    print(x, \"is C\")\n",
    "elif 60 <= x <= 69:\n",
    "    print(x, \"is D\")\n",
    "elif 0 <= x <= 59:\n",
    "    print(x, \"is E\")\n",
    "elif x < 0:\n",
    "    print(x, \"is error\")"
   ]
  },
  {
   "cell_type": "code",
   "execution_count": 28,
   "metadata": {},
   "outputs": [
    {
     "name": "stdout",
     "output_type": "stream",
     "text": [
      "95% discount is 19000.0\n"
     ]
    }
   ],
   "source": [
    "#29\n",
    "x = int(input())\n",
    "if x >= 100000:\n",
    "    print(f'80% discount is {x*0.8}')\n",
    "elif 50000 <= x < 100000:\n",
    "    print(f'85% discount is {x*0.85}') \n",
    "elif 30000 <= x < 50000:\n",
    "    print(f'90% discount is {x*0.9}') \n",
    "elif 10000 <= x < 30000:\n",
    "    print(f'95% discount is {x*0.95}') \n",
    "else:\n",
    "    print(f'no discount is {x}')"
   ]
  },
  {
   "cell_type": "code",
   "execution_count": 29,
   "metadata": {},
   "outputs": [
    {
     "name": "stdout",
     "output_type": "stream",
     "text": [
      "1,3,5,"
     ]
    }
   ],
   "source": [
    "#30\n",
    "a, b, c = map(int,input().split())\n",
    "for i in range(a,b,c):\n",
    "    print(i,end=',')"
   ]
  },
  {
   "cell_type": "code",
   "execution_count": 31,
   "metadata": {},
   "outputs": [
    {
     "name": "stdout",
     "output_type": "stream",
     "text": [
      "[3, 4, 5, 6, 7]\n"
     ]
    }
   ],
   "source": [
    "#32\n",
    "a, b, c = map(int, input().split())\n",
    "r = list(range(a, b, c))\n",
    "print(r)"
   ]
  },
  {
   "cell_type": "code",
   "execution_count": 32,
   "metadata": {},
   "outputs": [
    {
     "name": "stdout",
     "output_type": "stream",
     "text": [
      "Invalid\n"
     ]
    }
   ],
   "source": [
    "#33\n",
    "a,b,c = map(int, input().split())\n",
    "if a==b or a==c or b==c:\n",
    "    print(\"Valid\")\n",
    "else:\n",
    "    print(\"Invalid\")"
   ]
  },
  {
   "cell_type": "code",
   "execution_count": 34,
   "metadata": {},
   "outputs": [
    {
     "name": "stdout",
     "output_type": "stream",
     "text": [
      "park time:9h:29m\n",
      "pay:300 money\n"
     ]
    }
   ],
   "source": [
    "#34\n",
    "m = int(input())\n",
    "hr = m//60\n",
    "min = m%60\n",
    "if min == 0:\n",
    "    total = hr*40\n",
    "else:\n",
    "    total = hr*40+20\n",
    "if total>300:\n",
    "    total = 300\n",
    "print(f\"park time:{hr}h:{min}m\")\n",
    "print(f\"pay:{total} money\")"
   ]
  },
  {
   "cell_type": "code",
   "execution_count": 35,
   "metadata": {},
   "outputs": [
    {
     "name": "stdout",
     "output_type": "stream",
     "text": [
      "153,\n"
     ]
    }
   ],
   "source": [
    "#35\n",
    "a, b = map(int, input().split())\n",
    "n = []\n",
    "for num in range(a,b):\n",
    "    if 100 <= num <= 999:\n",
    "        h = num // 100\n",
    "        t = (num //10) % 10\n",
    "        o = num % 10\n",
    "        if h ** 3 + t ** 3 + o ** 3 == num:\n",
    "            n.append(num)\n",
    "print(\",\".join(map(str, n)) + \",\")"
   ]
  },
  {
   "cell_type": "code",
   "execution_count": 36,
   "metadata": {},
   "outputs": [
    {
     "name": "stdout",
     "output_type": "stream",
     "text": [
      "t=2.0 b=5.0 h=4.8 area=16.8\n"
     ]
    }
   ],
   "source": [
    "#40\n",
    "a = float(input())\n",
    "b = float(input())\n",
    "c = float(input())\n",
    "d = (a+b) * c / 2\n",
    "print(f\"t={a} b={b} h={c} area={d}\")"
   ]
  },
  {
   "cell_type": "code",
   "execution_count": 37,
   "metadata": {},
   "outputs": [
    {
     "name": "stdout",
     "output_type": "stream",
     "text": [
      "2.5\n"
     ]
    }
   ],
   "source": [
    "#41\n",
    "a = float(input())\n",
    "b = float(input())\n",
    "print(a%b)"
   ]
  },
  {
   "cell_type": "code",
   "execution_count": 38,
   "metadata": {},
   "outputs": [
    {
     "name": "stdout",
     "output_type": "stream",
     "text": [
      "13.333333333333334\n"
     ]
    }
   ],
   "source": [
    "#43\n",
    "a = float(input())\n",
    "b = float(input())\n",
    "print(a/b)"
   ]
  },
  {
   "cell_type": "code",
   "execution_count": null,
   "metadata": {},
   "outputs": [],
   "source": []
  }
 ],
 "metadata": {
  "kernelspec": {
   "display_name": "Python 3",
   "language": "python",
   "name": "python3"
  },
  "language_info": {
   "codemirror_mode": {
    "name": "ipython",
    "version": 3
   },
   "file_extension": ".py",
   "mimetype": "text/x-python",
   "name": "python",
   "nbconvert_exporter": "python",
   "pygments_lexer": "ipython3",
   "version": "3.12.4"
  }
 },
 "nbformat": 4,
 "nbformat_minor": 2
}
